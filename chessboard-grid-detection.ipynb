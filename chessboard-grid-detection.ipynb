{
 "cells": [
  {
   "cell_type": "markdown",
   "metadata": {},
   "source": [
    "# Grid Detection applie to Chess Board using OpenCv\n",
    "\n",
    "### Grid is used to calibrate cameras and track motion.\n",
    "### OpenCv has built in methods for tracking grids and chess board like patterns."
   ]
  },
  {
   "cell_type": "markdown",
   "metadata": {},
   "source": [
    "**Import library's**"
   ]
  },
  {
   "cell_type": "code",
   "execution_count": 1,
   "metadata": {},
   "outputs": [],
   "source": [
    "import cv2\n",
    "import numpy as np\n",
    "import matplotlib.pyplot as plt\n",
    "%matplotlib inline"
   ]
  },
  {
   "cell_type": "markdown",
   "metadata": {},
   "source": [
    "**Load the flat chess board image**"
   ]
  },
  {
   "cell_type": "code",
   "execution_count": 2,
   "metadata": {},
   "outputs": [],
   "source": [
    "flat_chess = cv2.imread(\"/Users/neemiasbsilva/Downloads/Computer-Vision-with-Python/DATA/flat_chessboard.png\")"
   ]
  },
  {
   "cell_type": "code",
   "execution_count": 3,
   "metadata": {},
   "outputs": [
    {
     "data": {
      "text/plain": [
       "<matplotlib.image.AxesImage at 0x116dc9b90>"
      ]
     },
     "execution_count": 3,
     "metadata": {},
     "output_type": "execute_result"
    },
    {
     "data": {
      "image/png": "[encoded data removed]",
      "text/plain": [
       "<Figure size 432x288 with 1 Axes>"
      ]
     },
     "metadata": {
      "needs_background": "light"
     },
     "output_type": "display_data"
    }
   ],
   "source": [
    "plt.imshow(flat_chess)"
   ]
  },
  {
   "cell_type": "markdown",
   "metadata": {},
   "source": [
    "**Using OpenCv to find chess board corners**"
   ]
  },
  {
   "cell_type": "code",
   "execution_count": 4,
   "metadata": {},
   "outputs": [],
   "source": [
    "found, corners = cv2.findChessboardCorners(flat_chess, (7, 7))"
   ]
  },
  {
   "cell_type": "code",
   "execution_count": 5,
   "metadata": {},
   "outputs": [
    {
     "data": {
      "text/plain": [
       "True"
      ]
     },
     "execution_count": 5,
     "metadata": {},
     "output_type": "execute_result"
    }
   ],
   "source": [
    "found"
   ]
  },
  {
   "cell_type": "code",
   "execution_count": 8,
   "metadata": {},
   "outputs": [
    {
     "data": {
      "text/plain": [
       "array([[[ 43.500004,  43.500004]],\n",
       "\n",
       "       [[ 87.5     ,  43.5     ]],\n",
       "\n",
       "       [[131.5     ,  43.5     ]],\n",
       "\n",
       "       [[175.5     ,  43.5     ]],\n",
       "\n",
       "       [[219.5     ,  43.5     ]],\n",
       "\n",
       "       [[263.5     ,  43.5     ]],\n",
       "\n",
       "       [[307.5     ,  43.5     ]],\n",
       "\n",
       "       [[ 43.499996,  87.50001 ]],\n",
       "\n",
       "       [[ 87.5     ,  87.5     ]],\n",
       "\n",
       "       [[131.5     ,  87.5     ]],\n",
       "\n",
       "       [[175.5     ,  87.5     ]],\n",
       "\n",
       "       [[219.5     ,  87.5     ]],\n",
       "\n",
       "       [[263.5     ,  87.5     ]],\n",
       "\n",
       "       [[307.5     ,  87.49999 ]],\n",
       "\n",
       "       [[ 43.500004, 131.5     ]],\n",
       "\n",
       "       [[ 87.5     , 131.5     ]],\n",
       "\n",
       "       [[131.5     , 131.5     ]],\n",
       "\n",
       "       [[175.5     , 131.5     ]],\n",
       "\n",
       "       [[219.5     , 131.5     ]],\n",
       "\n",
       "       [[263.5     , 131.5     ]],\n",
       "\n",
       "       [[307.5     , 131.5     ]],\n",
       "\n",
       "       [[ 43.499996, 175.5     ]],\n",
       "\n",
       "       [[ 87.5     , 175.5     ]],\n",
       "\n",
       "       [[131.5     , 175.5     ]],\n",
       "\n",
       "       [[175.5     , 175.5     ]],\n",
       "\n",
       "       [[219.5     , 175.5     ]],\n",
       "\n",
       "       [[263.5     , 175.5     ]],\n",
       "\n",
       "       [[307.5     , 175.5     ]],\n",
       "\n",
       "       [[ 43.500004, 219.5     ]],\n",
       "\n",
       "       [[ 87.5     , 219.5     ]],\n",
       "\n",
       "       [[131.5     , 219.5     ]],\n",
       "\n",
       "       [[175.5     , 219.5     ]],\n",
       "\n",
       "       [[219.5     , 219.5     ]],\n",
       "\n",
       "       [[263.5     , 219.5     ]],\n",
       "\n",
       "       [[307.5     , 219.5     ]],\n",
       "\n",
       "       [[ 43.499996, 263.5     ]],\n",
       "\n",
       "       [[ 87.5     , 263.5     ]],\n",
       "\n",
       "       [[131.5     , 263.5     ]],\n",
       "\n",
       "       [[175.5     , 263.5     ]],\n",
       "\n",
       "       [[219.5     , 263.5     ]],\n",
       "\n",
       "       [[263.5     , 263.5     ]],\n",
       "\n",
       "       [[307.5     , 263.5     ]],\n",
       "\n",
       "       [[ 43.5     , 307.5     ]],\n",
       "\n",
       "       [[ 87.5     , 307.5     ]],\n",
       "\n",
       "       [[131.5     , 307.5     ]],\n",
       "\n",
       "       [[175.5     , 307.5     ]],\n",
       "\n",
       "       [[219.5     , 307.5     ]],\n",
       "\n",
       "       [[263.5     , 307.5     ]],\n",
       "\n",
       "       [[307.5     , 307.5     ]]], dtype=float32)"
      ]
     },
     "execution_count": 8,
     "metadata": {},
     "output_type": "execute_result"
    }
   ],
   "source": [
    "# show the coordinate of corners\n",
    "corners"
   ]
  },
  {
   "cell_type": "code",
   "execution_count": 9,
   "metadata": {},
   "outputs": [
    {
     "data": {
      "text/plain": [
       "array([[[158, 206, 255],\n",
       "        [158, 206, 255],\n",
       "        [158, 206, 255],\n",
       "        ...,\n",
       "        [ 71, 139, 209],\n",
       "        [ 71, 139, 209],\n",
       "        [ 71, 139, 209]],\n",
       "\n",
       "       [[158, 206, 255],\n",
       "        [158, 206, 255],\n",
       "        [158, 206, 255],\n",
       "        ...,\n",
       "        [ 71, 139, 209],\n",
       "        [ 71, 139, 209],\n",
       "        [ 71, 139, 209]],\n",
       "\n",
       "       [[158, 206, 255],\n",
       "        [158, 206, 255],\n",
       "        [158, 206, 255],\n",
       "        ...,\n",
       "        [ 71, 139, 209],\n",
       "        [ 71, 139, 209],\n",
       "        [ 71, 139, 209]],\n",
       "\n",
       "       ...,\n",
       "\n",
       "       [[ 71, 139, 209],\n",
       "        [ 71, 139, 209],\n",
       "        [ 71, 139, 209],\n",
       "        ...,\n",
       "        [158, 206, 255],\n",
       "        [158, 206, 255],\n",
       "        [158, 206, 255]],\n",
       "\n",
       "       [[ 71, 139, 209],\n",
       "        [ 71, 139, 209],\n",
       "        [ 71, 139, 209],\n",
       "        ...,\n",
       "        [158, 206, 255],\n",
       "        [158, 206, 255],\n",
       "        [158, 206, 255]],\n",
       "\n",
       "       [[ 71, 139, 209],\n",
       "        [ 71, 139, 209],\n",
       "        [ 71, 139, 209],\n",
       "        ...,\n",
       "        [158, 206, 255],\n",
       "        [158, 206, 255],\n",
       "        [158, 206, 255]]], dtype=uint8)"
      ]
     },
     "execution_count": 9,
     "metadata": {},
     "output_type": "execute_result"
    }
   ],
   "source": [
    "cv2.drawChessboardCorners(flat_chess, (7, 7), corners, found)"
   ]
  },
  {
   "cell_type": "code",
   "execution_count": 10,
   "metadata": {},
   "outputs": [
    {
     "data": {
      "text/plain": [
       "<matplotlib.image.AxesImage at 0x11a16f5d0>"
      ]
     },
     "execution_count": 10,
     "metadata": {},
     "output_type": "execute_result"
    },
    {
     "data": {
      "image/png": "[encoded data removed]",
      "text/plain": [
       "<Figure size 432x288 with 1 Axes>"
      ]
     },
     "metadata": {
      "needs_background": "light"
     },
     "output_type": "display_data"
    }
   ],
   "source": [
    "plt.imshow(flat_chess)"
   ]
  },
  {
   "cell_type": "markdown",
   "metadata": {},
   "source": [
    "### Load the other image to draw circle to grid detection"
   ]
  },
  {
   "cell_type": "code",
   "execution_count": null,
   "metadata": {},
   "outputs": [],
   "source": []
  }
 ],
 "metadata": {
  "kernelspec": {
   "display_name": "venv",
   "language": "python",
   "name": "venv"
  },
  "language_info": {
   "codemirror_mode": {
    "name": "ipython",
    "version": 3
   },
   "file_extension": ".py",
   "mimetype": "text/x-python",
   "name": "python",
   "nbconvert_exporter": "python",
   "pygments_lexer": "ipython3",
   "version": "3.7.4"
  }
 },
 "nbformat": 4,
 "nbformat_minor": 2
}
